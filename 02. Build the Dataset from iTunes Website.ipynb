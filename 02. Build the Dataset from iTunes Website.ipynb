{
 "cells": [
  {
   "cell_type": "code",
   "execution_count": 3,
   "metadata": {
    "collapsed": true
   },
   "outputs": [],
   "source": [
    "import requests\n",
    "import pattern3.web as web\n",
    "import pandas as pd \n",
    "import numpy as np \n",
    "import matplotlib.pyplot as plt\n",
    "from bs4 import BeautifulSoup\n",
    "import re\n",
    "from progressbar import ProgressBar\n",
    "import pickle"
   ]
  },
  {
   "cell_type": "code",
   "execution_count": null,
   "metadata": {
    "collapsed": true
   },
   "outputs": [],
   "source": [
    "webpage = 'https://itunes.apple.com/us/genre/podcasts/id26?mt=2'"
   ]
  },
  {
   "cell_type": "code",
   "execution_count": null,
   "metadata": {
    "collapsed": false
   },
   "outputs": [],
   "source": [
    "def extract_links(webpage):\n",
    "    try: \n",
    "        url = web.URL(webpage)\n",
    "        bs = BeautifulSoup(url.download(cached = False)) \n",
    "        links_page = []\n",
    "        for link in bs.findAll('a', href=True):\n",
    "            links_page.append(link['href'])\n",
    "#             print (link['href'])\n",
    "    except:\n",
    "        pass \n",
    "    return links_page"
   ]
  },
  {
   "cell_type": "code",
   "execution_count": null,
   "metadata": {
    "collapsed": true
   },
   "outputs": [],
   "source": [
    "links = extract_links(webpage)"
   ]
  },
  {
   "cell_type": "code",
   "execution_count": null,
   "metadata": {
    "collapsed": false
   },
   "outputs": [],
   "source": [
    "def detect_patterns(links, pattern):\n",
    "    pattern_links = [] \n",
    "    for link in links:\n",
    "            if re.search(pattern, link):\n",
    "                pattern_links.append(link)\n",
    "                print (link)\n",
    "    return pattern_links"
   ]
  },
  {
   "cell_type": "markdown",
   "metadata": {},
   "source": [
    "<br><br/>"
   ]
  },
  {
   "cell_type": "markdown",
   "metadata": {},
   "source": [
    "### 2. Extract Genre Links "
   ]
  },
  {
   "cell_type": "code",
   "execution_count": null,
   "metadata": {
    "collapsed": true
   },
   "outputs": [],
   "source": [
    "pattern = 'https://itunes.apple.com/us/genre/podcasts-'"
   ]
  },
  {
   "cell_type": "code",
   "execution_count": null,
   "metadata": {
    "collapsed": true
   },
   "outputs": [],
   "source": [
    "genre_links = detect_patterns(links, pattern)"
   ]
  },
  {
   "cell_type": "markdown",
   "metadata": {},
   "source": [
    "### 3. Extract Popular Podcasts "
   ]
  },
  {
   "cell_type": "code",
   "execution_count": null,
   "metadata": {
    "collapsed": true
   },
   "outputs": [],
   "source": [
    "pattern2 = 'https://itunes.apple.com/us/podcast/'"
   ]
  },
  {
   "cell_type": "code",
   "execution_count": null,
   "metadata": {
    "collapsed": true
   },
   "outputs": [],
   "source": [
    "podcast_links = []"
   ]
  },
  {
   "cell_type": "code",
   "execution_count": null,
   "metadata": {
    "collapsed": true
   },
   "outputs": [],
   "source": [
    "for genre_link in genre_links:\n",
    "    all_links = extract_links(genre_link)\n",
    "    podcast_links.append(detect_patterns(all_links, pattern2))"
   ]
  },
  {
   "cell_type": "code",
   "execution_count": null,
   "metadata": {
    "collapsed": false
   },
   "outputs": [],
   "source": [
    "podcast_links2 = list(set(np.concatenate(podcast_links).tolist()))"
   ]
  },
  {
   "cell_type": "code",
   "execution_count": null,
   "metadata": {
    "collapsed": false
   },
   "outputs": [],
   "source": [
    "with open('podcast_links', 'wb') as fp:\n",
    "    pickle.dump(podcast_links2, fp)"
   ]
  },
  {
   "cell_type": "code",
   "execution_count": 7,
   "metadata": {
    "collapsed": false
   },
   "outputs": [],
   "source": [
    "with open ('podcast_links', 'rb') as fp:\n",
    "    podcast_links2 = pickle.load(fp)\n"
   ]
  },
  {
   "cell_type": "code",
   "execution_count": 33,
   "metadata": {
    "collapsed": false
   },
   "outputs": [
    {
     "data": {
      "text/plain": [
       "13656"
      ]
     },
     "execution_count": 33,
     "metadata": {},
     "output_type": "execute_result"
    }
   ],
   "source": [
    "len(podcast_links2)"
   ]
  },
  {
   "cell_type": "markdown",
   "metadata": {},
   "source": [
    "<br><BR/>"
   ]
  },
  {
   "cell_type": "markdown",
   "metadata": {},
   "source": [
    "### 4. Get Names, Descriptions "
   ]
  },
  {
   "cell_type": "code",
   "execution_count": 162,
   "metadata": {
    "collapsed": false
   },
   "outputs": [],
   "source": [
    "columns= ['Name', 'Artwork', 'Genre IDs', 'Episode Count', 'Episode Durations','iTunes URL', 'Feed URL', 'Podcast URL', 'Description']\n",
    "df_podcast = pd.DataFrame([[0, 0, 0, 0, 0, 0, 0, 0, 0]], columns = columns) "
   ]
  },
  {
   "cell_type": "code",
   "execution_count": 163,
   "metadata": {
    "collapsed": false
   },
   "outputs": [
    {
     "data": {
      "text/html": [
       "<div>\n",
       "<table border=\"1\" class=\"dataframe\">\n",
       "  <thead>\n",
       "    <tr style=\"text-align: right;\">\n",
       "      <th></th>\n",
       "      <th>Name</th>\n",
       "      <th>Artwork</th>\n",
       "      <th>Genre IDs</th>\n",
       "      <th>Episode Count</th>\n",
       "      <th>Episode Durations</th>\n",
       "      <th>iTunes URL</th>\n",
       "      <th>Feed URL</th>\n",
       "      <th>Podcast URL</th>\n",
       "      <th>Description</th>\n",
       "    </tr>\n",
       "  </thead>\n",
       "  <tbody>\n",
       "    <tr>\n",
       "      <th>0</th>\n",
       "      <td>0</td>\n",
       "      <td>0</td>\n",
       "      <td>0</td>\n",
       "      <td>0</td>\n",
       "      <td>0</td>\n",
       "      <td>0</td>\n",
       "      <td>0</td>\n",
       "      <td>0</td>\n",
       "      <td>0</td>\n",
       "    </tr>\n",
       "  </tbody>\n",
       "</table>\n",
       "</div>"
      ],
      "text/plain": [
       "   Name  Artwork  Genre IDs  Episode Count  Episode Durations  iTunes URL  \\\n",
       "0     0        0          0              0                  0           0   \n",
       "\n",
       "   Feed URL  Podcast URL  Description  \n",
       "0         0            0            0  "
      ]
     },
     "execution_count": 163,
     "metadata": {},
     "output_type": "execute_result"
    }
   ],
   "source": [
    "df_podcast"
   ]
  },
  {
   "cell_type": "code",
   "execution_count": 165,
   "metadata": {
    "collapsed": true
   },
   "outputs": [],
   "source": [
    "# Get artwork, feedurl genreIDs from the iTunes API: \n",
    "def data_from_API(ID):\n",
    "\n",
    "    url = 'https://itunes.apple.com/lookup?id=' + ID\n",
    "\n",
    "    try:\n",
    "        response = requests.get(url) \n",
    "        data = response.json()\n",
    "        \n",
    "        if data[\"resultCount\"] != 0: \n",
    "            for elem in data[\"results\"]:   \n",
    "                if \"kind\" in elem.keys(): \n",
    "                    if elem[\"kind\"] == \"podcast\":\n",
    "                        if \"trackCount\" in elem.keys():\n",
    "                            if elem[\"trackCount\"] >= 20: \n",
    "                                if \"artworkUrl100\" in elem.keys():\n",
    "                                    artwork = elem[\"artworkUrl100\"]\n",
    "                                if \"feedUrl\" in elem.keys(): \n",
    "                                    rss_feed = elem[\"feedUrl\"]\n",
    "                                if \"genreIds\" in elem.keys():\n",
    "                                    genre_IDs = elem[\"genreIds\"]\n",
    "                                    \n",
    "                                    \n",
    "                                return [artwork, rss_feed, genre_IDs]\n",
    "                            \n",
    "                            else: \n",
    "                                return None \n",
    "\n",
    "                    else:\n",
    "                        return None \n",
    "                          \n",
    "        else: \n",
    "            return None\n",
    "\n",
    "    except:\n",
    "        None "
   ]
  },
  {
   "cell_type": "code",
   "execution_count": 164,
   "metadata": {
    "collapsed": false
   },
   "outputs": [],
   "source": [
    "def get_description(webpage):\n",
    "    \n",
    "    global df_podcast\n",
    "    iTunes_URL = webpage\n",
    "    podcast_id = re.findall('[0-9]+', re.findall('id[0-9]+', iTunes_URL)[0])[0]\n",
    "    api_data = data_from_API(podcast_id)\n",
    "    \n",
    "    if api_data is not None: \n",
    "        artwork = api_data[0]\n",
    "        feedurl = api_data[1]\n",
    "        genre_IDs = api_data[2]\n",
    "        \n",
    "        \n",
    "    \n",
    "        try: \n",
    "\n",
    "            url = web.URL(webpage)\n",
    "            bs = BeautifulSoup(url.download(cached = False)) \n",
    "\n",
    "            titles = bs.find('div', id='title')\n",
    "            if titles is not None:\n",
    "                title = titles.find('h1').getText()\n",
    "\n",
    "\n",
    "            try:     \n",
    "                podcast_left = bs.find('div', id='left-stack')\n",
    "                if podcast_left is not None:\n",
    "                    links = podcast_left.findAll('a', href=True)\n",
    "                    if links is not None: \n",
    "                        for link in links:                   \n",
    "                            if link.getText() == \"Podcast Website\":\n",
    "                                podcast_link = link['href']\n",
    "\n",
    "            except:\n",
    "                podcast_link = 0\n",
    "\n",
    "\n",
    "\n",
    "            try:              \n",
    "                description = bs.find('div', 'product-review')\n",
    "                if description is not None:\n",
    "                    descr_parag = description.findAll('p')\n",
    "                    for parag in descr_parag:\n",
    "                        podcast_description = parag.getText()\n",
    "\n",
    "            except:\n",
    "                podcast_description = 0 \n",
    "\n",
    "\n",
    "\n",
    "\n",
    "            try:        \n",
    "                track_list = bs.find('div', 'track-list', 'podcast')\n",
    "                episodes = track_list.findAll('tr', 'podcast-episode')\n",
    "                episode_count = len(episodes)\n",
    "                durations = [] \n",
    "                for episode in episodes:\n",
    "                    if episode['preview-duration'] is not None:\n",
    "                        duration = int(episode['preview-duration']) / 1000 / 60 \n",
    "                        durations.append(float(\"{0:.2f}\".format(duration)))\n",
    "                    else:\n",
    "                        duration = 0 \n",
    "                        durations.append(duration)\n",
    "    #             print (number_episodes, durations)    \n",
    "            except: \n",
    "                durations = 0  \n",
    "\n",
    "\n",
    "            my_row = [title, artwork, genre_IDs, episode_count, durations, iTunes_URL, feedurl, podcast_link, podcast_description]\n",
    "            my_row_pd = pd.DataFrame([my_row], columns = columns)  \n",
    "            df_podcast = df_podcast.append(my_row_pd, ignore_index=True)\n",
    "\n",
    "            return df_podcast\n",
    "\n",
    "        except: \n",
    "            return None \n",
    "        \n",
    "    else: \n",
    "        return None "
   ]
  },
  {
   "cell_type": "code",
   "execution_count": 73,
   "metadata": {
    "collapsed": false
   },
   "outputs": [],
   "source": [
    "podcast_links3 = list(set(podcast_links2))"
   ]
  },
  {
   "cell_type": "code",
   "execution_count": 167,
   "metadata": {
    "collapsed": false
   },
   "outputs": [
    {
     "name": "stdout",
     "output_type": "stream",
     "text": [
      "13656 13656\n"
     ]
    }
   ],
   "source": [
    "print (len(podcast_links2), len(podcast_links3))"
   ]
  },
  {
   "cell_type": "markdown",
   "metadata": {},
   "source": [
    "<br> <br/>"
   ]
  },
  {
   "cell_type": "code",
   "execution_count": 166,
   "metadata": {
    "collapsed": true
   },
   "outputs": [],
   "source": [
    "pbar = ProgressBar()"
   ]
  },
  {
   "cell_type": "code",
   "execution_count": 169,
   "metadata": {
    "collapsed": true
   },
   "outputs": [
    {
     "name": "stderr",
     "output_type": "stream",
     "text": [
      "/Users/odeniz/Downloads/ENTER/lib/python3.6/site-packages/bs4/__init__.py:181: UserWarning: No parser was explicitly specified, so I'm using the best available HTML parser for this system (\"lxml\"). This usually isn't a problem, but if you run this code on another system, or in a different virtual environment, it may use a different parser and behave differently.\n",
      "\n",
      "The code that caused this warning is on line 193 of the file /Users/odeniz/Downloads/ENTER/lib/python3.6/runpy.py. To get rid of this warning, change code that looks like this:\n",
      "\n",
      " BeautifulSoup([your markup])\n",
      "\n",
      "to this:\n",
      "\n",
      " BeautifulSoup([your markup], \"lxml\")\n",
      "\n",
      "  markup_type=markup_type))\n",
      "100% |########################################################################|\n"
     ]
    }
   ],
   "source": [
    "for link in pbar(podcast_links2):\n",
    "    get_description(link)"
   ]
  },
  {
   "cell_type": "code",
   "execution_count": 172,
   "metadata": {
    "collapsed": true
   },
   "outputs": [],
   "source": [
    "df_podcast.drop(df_podcast.index[0], inplace=True)\n",
    "dfpodcast = df_podcast.reset_index(drop=True)"
   ]
  },
  {
   "cell_type": "code",
   "execution_count": 174,
   "metadata": {
    "collapsed": true
   },
   "outputs": [],
   "source": [
    "dfpodcast.to_csv(\"df_popular_podcasts.csv\", index=False)"
   ]
  }
 ],
 "metadata": {
  "kernelspec": {
   "display_name": "Python 3",
   "language": "python",
   "name": "python3"
  },
  "language_info": {
   "codemirror_mode": {
    "name": "ipython",
    "version": 3
   },
   "file_extension": ".py",
   "mimetype": "text/x-python",
   "name": "python",
   "nbconvert_exporter": "python",
   "pygments_lexer": "ipython3",
   "version": "3.6.0"
  }
 },
 "nbformat": 4,
 "nbformat_minor": 2
}
